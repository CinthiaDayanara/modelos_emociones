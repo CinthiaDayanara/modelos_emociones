{
  "nbformat": 4,
  "nbformat_minor": 0,
  "metadata": {
    "colab": {
      "provenance": [],
      "authorship_tag": "ABX9TyN5A+5Go16c+qO/7IpQbGGk",
      "include_colab_link": true
    },
    "kernelspec": {
      "name": "python3",
      "display_name": "Python 3"
    },
    "language_info": {
      "name": "python"
    }
  },
  "cells": [
    {
      "cell_type": "markdown",
      "metadata": {
        "id": "view-in-github",
        "colab_type": "text"
      },
      "source": [
        "<a href=\"https://colab.research.google.com/github/CinthiaDayanara/modelos_emociones/blob/main/Untitled10.ipynb\" target=\"_parent\"><img src=\"https://colab.research.google.com/assets/colab-badge.svg\" alt=\"Open In Colab\"/></a>"
      ]
    },
    {
      "cell_type": "code",
      "execution_count": 2,
      "metadata": {
        "colab": {
          "base_uri": "https://localhost:8080/"
        },
        "id": "QW9tm8eKHw5f",
        "outputId": "e1af59b6-a5e5-4d87-be8a-44dd667ab7fb"
      },
      "outputs": [
        {
          "output_type": "stream",
          "name": "stdout",
          "text": [
            "Mounted at /content/drive\n"
          ]
        }
      ],
      "source": [
        "# Montar Google Drive para acceder a archivos\n",
        "from google.colab import drive\n",
        "drive.mount('/content/drive')"
      ]
    },
    {
      "cell_type": "code",
      "source": [
        "import tensorflow as tf\n",
        "from tensorflow.keras.preprocessing.image import ImageDataGenerator\n",
        "from tensorflow.keras.applications import VGG16\n",
        "from tensorflow.keras.models import Model\n",
        "from tensorflow.keras.layers import Dense, Flatten, Dropout\n",
        "from tensorflow.keras.callbacks import EarlyStopping, ModelCheckpoint"
      ],
      "metadata": {
        "id": "xorBGNrAIked"
      },
      "execution_count": 3,
      "outputs": []
    },
    {
      "cell_type": "code",
      "source": [
        "# Cargar datos desde Google Drive\n",
        "ruta_archivo = '/content/drive/MyDrive/emotions'  # Ajusta la ruta si es necesario\n"
      ],
      "metadata": {
        "id": "Xi08QCwvInGG"
      },
      "execution_count": 5,
      "outputs": []
    },
    {
      "cell_type": "code",
      "source": [
        "# Configuración inicial\n",
        "IMG_SIZE = 224  # Tamaño de las imágenes (compatibles con VGG16)\n",
        "BATCH_SIZE = 32\n",
        "EPOCHS_CONGELADAS = 10  # Fase 1 (capas congeladas)\n",
        "EPOCHS_DESCONGELADAS = 5  # Fase 2 (ajuste fino)\n",
        "LEARNING_RATE_CONGELADAS = 1e-4\n",
        "LEARNING_RATE_DESCONGELADAS = 1e-5\n"
      ],
      "metadata": {
        "id": "jrwk3XNsIo5L"
      },
      "execution_count": 6,
      "outputs": []
    },
    {
      "cell_type": "code",
      "source": [
        "# Generación de datos con data augmentation\n",
        "datagen = ImageDataGenerator(\n",
        "    rescale=1.0/255,  # Normalización\n",
        "    rotation_range=30,\n",
        "    width_shift_range=0.2,\n",
        "    height_shift_range=0.2,\n",
        "    zoom_range=0.2,\n",
        "    horizontal_flip=True,\n",
        "    validation_split=0.2  # División lógica (80% entrenamiento, 20% validación)\n",
        ")\n",
        "\n",
        "train_generator = datagen.flow_from_directory(\n",
        "   ruta_archivo,\n",
        "    target_size=(IMG_SIZE, IMG_SIZE),\n",
        "    batch_size=BATCH_SIZE,\n",
        "    class_mode=\"categorical\",\n",
        "    subset=\"training\"\n",
        ")\n",
        "\n",
        "validation_generator = datagen.flow_from_directory(\n",
        "    ruta_archivo,\n",
        "    target_size=(IMG_SIZE, IMG_SIZE),\n",
        "    batch_size=BATCH_SIZE,\n",
        "    class_mode=\"categorical\",\n",
        "    subset=\"validation\"\n",
        ")"
      ],
      "metadata": {
        "colab": {
          "base_uri": "https://localhost:8080/"
        },
        "id": "mf_acAg1Itc_",
        "outputId": "d1147aed-fe02-43a5-de37-5799d45df6e3"
      },
      "execution_count": 7,
      "outputs": [
        {
          "output_type": "stream",
          "name": "stdout",
          "text": [
            "Found 5326 images belonging to 6 classes.\n",
            "Found 1330 images belonging to 6 classes.\n"
          ]
        }
      ]
    },
    {
      "cell_type": "code",
      "source": [
        "# Carga del modelo VGG16 preentrenado\n",
        "base_model = VGG16(weights=\"imagenet\", include_top=False, input_shape=(IMG_SIZE, IMG_SIZE, 3))\n",
        "base_model.trainable = False  # Capas congeladas"
      ],
      "metadata": {
        "colab": {
          "base_uri": "https://localhost:8080/"
        },
        "id": "7tYGjD5sI-TB",
        "outputId": "b472097b-3cc0-405b-8d3c-e8365a2c3bab"
      },
      "execution_count": 8,
      "outputs": [
        {
          "output_type": "stream",
          "name": "stdout",
          "text": [
            "Downloading data from https://storage.googleapis.com/tensorflow/keras-applications/vgg16/vgg16_weights_tf_dim_ordering_tf_kernels_notop.h5\n",
            "\u001b[1m58889256/58889256\u001b[0m \u001b[32m━━━━━━━━━━━━━━━━━━━━\u001b[0m\u001b[37m\u001b[0m \u001b[1m0s\u001b[0m 0us/step\n"
          ]
        }
      ]
    },
    {
      "cell_type": "code",
      "source": [
        "# Construcción de la parte superior personalizada\n",
        "x = Flatten()(base_model.output)\n",
        "x = Dense(256, activation=\"relu\")(x)\n",
        "x = Dropout(0.5)(x)\n",
        "output = Dense(train_generator.num_classes, activation=\"softmax\")(x)\n",
        "model = Model(inputs=base_model.input, outputs=output)"
      ],
      "metadata": {
        "id": "t_N7IqWVI-Ej"
      },
      "execution_count": 10,
      "outputs": []
    },
    {
      "cell_type": "code",
      "source": [
        "# Compilación del modelo (Fase 1: capas congeladas)\n",
        "model.compile(\n",
        "    optimizer=tf.keras.optimizers.Adam(learning_rate=LEARNING_RATE_CONGELADAS),\n",
        "    loss=\"categorical_crossentropy\",\n",
        "    metrics=[\"accuracy\"]\n",
        ")"
      ],
      "metadata": {
        "id": "lnpGROmMJJZe"
      },
      "execution_count": 11,
      "outputs": []
    },
    {
      "cell_type": "code",
      "source": [
        "# Callbacks\n",
        "early_stopping = EarlyStopping(monitor=\"val_loss\", patience=3, restore_best_weights=True)\n",
        "model_checkpoint = ModelCheckpoint(\"best_model.keras\", monitor=\"val_loss\", save_best_only=True)\n"
      ],
      "metadata": {
        "id": "uRCyDlvSJMC9"
      },
      "execution_count": 12,
      "outputs": []
    },
    {
      "cell_type": "code",
      "source": [
        "# Entrenamiento (capas congeladas)\n",
        "history = model.fit(\n",
        "    train_generator,\n",
        "    validation_data=validation_generator,\n",
        "    epochs=EPOCHS_CONGELADAS,\n",
        "    callbacks=[early_stopping, model_checkpoint]\n",
        ")"
      ],
      "metadata": {
        "colab": {
          "base_uri": "https://localhost:8080/"
        },
        "id": "KEAg0SbXJPJH",
        "outputId": "a136b146-0d82-428a-cd10-ba63b230edb1"
      },
      "execution_count": null,
      "outputs": [
        {
          "output_type": "stream",
          "name": "stdout",
          "text": [
            "Epoch 1/10\n"
          ]
        },
        {
          "output_type": "stream",
          "name": "stderr",
          "text": [
            "/usr/local/lib/python3.11/dist-packages/keras/src/trainers/data_adapters/py_dataset_adapter.py:122: UserWarning: Your `PyDataset` class should call `super().__init__(**kwargs)` in its constructor. `**kwargs` can include `workers`, `use_multiprocessing`, `max_queue_size`. Do not pass these arguments to `fit()`, as they will be ignored.\n",
            "  self._warn_if_super_not_called()\n"
          ]
        },
        {
          "output_type": "stream",
          "name": "stdout",
          "text": [
            "\u001b[1m167/167\u001b[0m \u001b[32m━━━━━━━━━━━━━━━━━━━━\u001b[0m\u001b[37m\u001b[0m \u001b[1m4565s\u001b[0m 27s/step - accuracy: 0.2915 - loss: 1.8037 - val_accuracy: 0.3338 - val_loss: 1.6356\n",
            "Epoch 2/10\n",
            "\u001b[1m167/167\u001b[0m \u001b[32m━━━━━━━━━━━━━━━━━━━━\u001b[0m\u001b[37m\u001b[0m \u001b[1m4417s\u001b[0m 26s/step - accuracy: 0.3953 - loss: 1.5395 - val_accuracy: 0.3135 - val_loss: 1.6600\n",
            "Epoch 3/10\n",
            "\u001b[1m167/167\u001b[0m \u001b[32m━━━━━━━━━━━━━━━━━━━━\u001b[0m\u001b[37m\u001b[0m \u001b[1m4433s\u001b[0m 27s/step - accuracy: 0.4235 - loss: 1.4729 - val_accuracy: 0.3083 - val_loss: 1.6204\n",
            "Epoch 4/10\n",
            "\u001b[1m167/167\u001b[0m \u001b[32m━━━━━━━━━━━━━━━━━━━━\u001b[0m\u001b[37m\u001b[0m \u001b[1m4428s\u001b[0m 27s/step - accuracy: 0.4326 - loss: 1.4471 - val_accuracy: 0.3835 - val_loss: 1.5802\n",
            "Epoch 5/10\n",
            "\u001b[1m167/167\u001b[0m \u001b[32m━━━━━━━━━━━━━━━━━━━━\u001b[0m\u001b[37m\u001b[0m \u001b[1m4437s\u001b[0m 26s/step - accuracy: 0.4449 - loss: 1.4194 - val_accuracy: 0.4135 - val_loss: 1.4962\n",
            "Epoch 6/10\n",
            "\u001b[1m 74/167\u001b[0m \u001b[32m━━━━━━━━\u001b[0m\u001b[37m━━━━━━━━━━━━\u001b[0m \u001b[1m32:47\u001b[0m 21s/step - accuracy: 0.4307 - loss: 1.4235"
          ]
        }
      ]
    },
    {
      "cell_type": "code",
      "source": [
        "# Guardar el modelo entrenado\n",
        "model.save('emotion_model2.h5')\n"
      ],
      "metadata": {
        "id": "l8OI7xOiJSCi"
      },
      "execution_count": null,
      "outputs": []
    },
    {
      "cell_type": "code",
      "source": [
        "\n",
        "# Evaluar el modelo en el conjunto de validación\n",
        "loss, accuracy = model.evaluate(validation_generator)\n",
        "print(f\"Precisión en validación: {accuracy * 100:.2f}%\")"
      ],
      "metadata": {
        "id": "iyV5OxfAuWrA"
      },
      "execution_count": null,
      "outputs": []
    }
  ]
}